{
 "cells": [
  {
   "cell_type": "code",
   "execution_count": 1,
   "id": "e61cd240-0e03-45f9-a731-d160e8898c84",
   "metadata": {},
   "outputs": [],
   "source": [
    "import pandas as pd\n",
    "import numpy as np\n",
    "import matplotlib.pyplot as plt\n",
    "import ipywidgets as widgets\n",
    "from IPython.display import display"
   ]
  },
  {
   "cell_type": "code",
   "execution_count": 3,
   "id": "5b1e5d7f-64ab-454d-9728-de4ee21123b1",
   "metadata": {},
   "outputs": [],
   "source": [
    "# --- 1. Load Historical Data ---\n",
    "def load_data(file_path):\n",
    "    \"\"\"Loads historical data from a CSV file.\"\"\"\n",
    "    try:\n",
    "        df = pd.read_csv(file_path, index_col='Date', parse_dates=True)\n",
    "        print(f\"Data loaded successfully from {file_path}\")\n",
    "        return df\n",
    "    except FileNotFoundError:\n",
    "        print(f\"Error: File not found at {file_path}\")\n",
    "        return None"
   ]
  },
  {
   "cell_type": "code",
   "execution_count": 1,
   "id": "c8d39a89-5923-4542-98a2-37c37dcbba95",
   "metadata": {},
   "outputs": [],
   "source": [
    "# --- 2. Define Trading Strategy ---\n",
    "def simple_moving_average_strategy(data, short_window, long_window):\n",
    "    \"\"\"\n",
    "    A simple moving average crossover strategy.\n",
    "    Generates 'Signal' (1 for buy, -1 for sell, 0 for hold) and 'Position'.\n",
    "    \"\"\"\n",
    "    signals = pd.DataFrame(index=data.index)\n",
    "    signals['Short_SMA'] = data['Close'].rolling(window=short_window, min_periods=1).mean()\n",
    "    signals['Long_SMA'] = data['Close'].rolling(window=long_window, min_periods=1).mean()\n",
    "    signals['Signal'] = 0.0\n",
    "    signals['Signal'][signals['Short_SMA'] > signals['Long_SMA']] = 1.0\n",
    "    signals['Signal'][signals['Short_SMA'] < signals['Long_SMA']] = -1.0\n",
    "    signals['Position'] = signals['Signal'].shift(1).fillna(0)\n",
    "    return signals"
   ]
  },
  {
   "cell_type": "code",
   "execution_count": null,
   "id": "d3e02925-7a4f-4686-bf40-ec5a5130db50",
   "metadata": {},
   "outputs": [],
   "source": []
  }
 ],
 "metadata": {
  "kernelspec": {
   "display_name": "Python 3 (ipykernel)",
   "language": "python",
   "name": "python3"
  },
  "language_info": {
   "codemirror_mode": {
    "name": "ipython",
    "version": 3
   },
   "file_extension": ".py",
   "mimetype": "text/x-python",
   "name": "python",
   "nbconvert_exporter": "python",
   "pygments_lexer": "ipython3",
   "version": "3.12.7"
  }
 },
 "nbformat": 4,
 "nbformat_minor": 5
}
